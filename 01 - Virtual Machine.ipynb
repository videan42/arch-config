{
 "metadata": {
  "name": "",
  "signature": "sha256:d7563d91f5d4e210b6097699e9b4cd68469257d2a03141f1449b3fb81cc16842"
 },
 "nbformat": 3,
 "nbformat_minor": 0,
 "worksheets": [
  {
   "cells": [
    {
     "cell_type": "heading",
     "level": 2,
     "metadata": {},
     "source": [
      "Spin Up a Virtual Machine"
     ]
    },
    {
     "cell_type": "code",
     "collapsed": false,
     "input": [
      "import os\n",
      "import subprocess\n",
      "\n",
      "THISDIR = os.path.realpath('.')"
     ],
     "language": "python",
     "metadata": {},
     "outputs": [],
     "prompt_number": 5
    },
    {
     "cell_type": "markdown",
     "metadata": {},
     "source": [
      "The Config for Our Shiny New VM"
     ]
    },
    {
     "cell_type": "code",
     "collapsed": false,
     "input": [
      "VM_NAME = 'ArchLinuxDemo'\n",
      "\n",
      "ARCH_ISO = os.path.join(THISDIR, 'archlinux-2014.04.01-dual.iso')\n",
      "ARCH_DIR = os.path.join(THISDIR, 'VMs')\n",
      "\n",
      "# Sane VM Defaults\n",
      "VM_OPTIONS = [\n",
      "    ('--memory', 512),  # MB\n",
      "    ('--vram', 16),  # MB\n",
      "    ('--monitorcount', 1),\n",
      "    ('--ostype', 'ArchLinux_64'),\n",
      "    ('--ioapic', 'on'),\n",
      "    ('--cpus', 1),\n",
      "    ('--rtcuseutc', 'on'),\n",
      "    ('--usb', 'on'),\n",
      "    ('--usbehci', 'on'),\n",
      "    ('--nic1', 'nat'),\n",
      "]\n",
      "\n",
      "VM_DISK_SIZE = 8192  # MB\n",
      "VM_DISK_FILE = os.path.join(ARCH_DIR, 'Root.vdi')\n"
     ],
     "language": "python",
     "metadata": {},
     "outputs": [],
     "prompt_number": 6
    },
    {
     "cell_type": "markdown",
     "metadata": {},
     "source": [
      "Helper functions to make VBoxManage easier to deal with"
     ]
    },
    {
     "cell_type": "code",
     "collapsed": false,
     "input": [
      "def call(*args):\n",
      "    cmd = ['VBoxManage'] + [str(c) for c in args]\n",
      "    print('Calling: {}'.format(' '.join(cmd)))\n",
      "    return subprocess.check_call(cmd)\n",
      "\n",
      "def createvm(*args):\n",
      "    return call('createvm', *args)\n",
      "\n",
      "def modifyvm(*args):\n",
      "    return call('modifyvm', *args)\n",
      "\n",
      "def storagectl(*args):\n",
      "    return call('storagectl', *args)\n",
      "\n",
      "def storageattach(*args):\n",
      "    return call('storageattach', *args)\n",
      "\n",
      "def createhd(*args):\n",
      "    return call('createhd', *args)\n",
      "\n",
      "if not os.path.isdir(ARCH_DIR):\n",
      "    os.makedirs(ARCH_DIR)"
     ],
     "language": "python",
     "metadata": {},
     "outputs": [],
     "prompt_number": 7
    },
    {
     "cell_type": "markdown",
     "metadata": {},
     "source": [
      "Actually configure the VM"
     ]
    },
    {
     "cell_type": "code",
     "collapsed": false,
     "input": [
      "createvm('--name', VM_NAME, '--basefolder', ARCH_DIR, '--register')\n",
      "\n",
      "for option in VM_OPTIONS:\n",
      "    modifyvm(VM_NAME, *option)\n",
      "\n",
      "# Add the CD-Rom with the Arch Install ISO\n",
      "storagectl(VM_NAME, '--name', 'PIIX4', '--add', 'ide', '--controller', 'PIIX4')\n",
      "storageattach(VM_NAME,  '--storagectl', 'PIIX4', '--port', 0, '--device', 0,\n",
      "              '--type', 'dvddrive', '--medium', ARCH_ISO)\n",
      "\n",
      "# Add a Hard Drive\n",
      "storagectl(VM_NAME, '--name', 'LsiLogic', '--add', 'scsi', '--controller', 'LsiLogic')\n",
      "createhd('--filename', VM_DISK_FILE, '--format', 'VDI', '--size', VM_DISK_SIZE)\n",
      "storageattach(VM_NAME, '--storagectl', 'LsiLogic', '--port', 0, '--device', 0, '--type', 'hdd', '--medium', VM_DISK_FILE)\n"
     ],
     "language": "python",
     "metadata": {},
     "outputs": [
      {
       "output_type": "stream",
       "stream": "stdout",
       "text": [
        "Calling: VBoxManage createvm --name ArchLinuxDemo --basefolder /home/david/arch_test/VMs --register\n",
        "Calling: VBoxManage modifyvm ArchLinuxDemo --memory 512"
       ]
      },
      {
       "output_type": "stream",
       "stream": "stdout",
       "text": [
        "\n",
        "Calling: VBoxManage modifyvm ArchLinuxDemo --vram 16"
       ]
      },
      {
       "output_type": "stream",
       "stream": "stdout",
       "text": [
        "\n",
        "Calling: VBoxManage modifyvm ArchLinuxDemo --monitorcount 1"
       ]
      },
      {
       "output_type": "stream",
       "stream": "stdout",
       "text": [
        "\n",
        "Calling: VBoxManage modifyvm ArchLinuxDemo --ostype ArchLinux_64"
       ]
      },
      {
       "output_type": "stream",
       "stream": "stdout",
       "text": [
        "\n",
        "Calling: VBoxManage modifyvm ArchLinuxDemo --ioapic on"
       ]
      },
      {
       "output_type": "stream",
       "stream": "stdout",
       "text": [
        "\n",
        "Calling: VBoxManage modifyvm ArchLinuxDemo --cpus 1"
       ]
      },
      {
       "output_type": "stream",
       "stream": "stdout",
       "text": [
        "\n",
        "Calling: VBoxManage modifyvm ArchLinuxDemo --rtcuseutc on"
       ]
      },
      {
       "output_type": "stream",
       "stream": "stdout",
       "text": [
        "\n",
        "Calling: VBoxManage modifyvm ArchLinuxDemo --usb on"
       ]
      },
      {
       "output_type": "stream",
       "stream": "stdout",
       "text": [
        "\n",
        "Calling: VBoxManage modifyvm ArchLinuxDemo --usbehci on"
       ]
      },
      {
       "output_type": "stream",
       "stream": "stdout",
       "text": [
        "\n",
        "Calling: VBoxManage modifyvm ArchLinuxDemo --nic1 nat"
       ]
      },
      {
       "output_type": "stream",
       "stream": "stdout",
       "text": [
        "\n",
        "Calling: VBoxManage storagectl ArchLinuxDemo --name PIIX4 --add ide --controller PIIX4"
       ]
      },
      {
       "output_type": "stream",
       "stream": "stdout",
       "text": [
        "\n",
        "Calling: VBoxManage storageattach ArchLinuxDemo --storagectl PIIX4 --port 0 --device 0 --type dvddrive --medium /home/david/arch_test/archlinux-2014.04.01-dual.iso"
       ]
      },
      {
       "output_type": "stream",
       "stream": "stdout",
       "text": [
        "\n",
        "Calling: VBoxManage storagectl ArchLinuxDemo --name LsiLogic --add scsi --controller LsiLogic"
       ]
      },
      {
       "output_type": "stream",
       "stream": "stdout",
       "text": [
        "\n",
        "Calling: VBoxManage createhd --filename /home/david/arch_test/VMs/Root.vdi --format VDI --size 8192"
       ]
      },
      {
       "output_type": "stream",
       "stream": "stdout",
       "text": [
        "\n",
        "Calling: VBoxManage storageattach ArchLinuxDemo --storagectl LsiLogic --port 0 --device 0 --type hdd --medium /home/david/arch_test/VMs/Root.vdi"
       ]
      },
      {
       "output_type": "stream",
       "stream": "stdout",
       "text": [
        "\n"
       ]
      },
      {
       "metadata": {},
       "output_type": "pyout",
       "prompt_number": 8,
       "text": [
        "0"
       ]
      }
     ],
     "prompt_number": 8
    },
    {
     "cell_type": "code",
     "collapsed": false,
     "input": [],
     "language": "python",
     "metadata": {},
     "outputs": [],
     "prompt_number": 8
    }
   ],
   "metadata": {}
  }
 ]
}