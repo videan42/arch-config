{
 "metadata": {
  "name": "",
  "signature": "sha256:cd2f90caa053a8f241817b111e7c1a27866932fbd30c0eabb84f229c3446b461"
 },
 "nbformat": 3,
 "nbformat_minor": 0,
 "worksheets": [
  {
   "cells": [
    {
     "cell_type": "heading",
     "level": 2,
     "metadata": {},
     "source": [
      "Bringing Up the Network"
     ]
    },
    {
     "cell_type": "heading",
     "level": 3,
     "metadata": {},
     "source": [
      "Ethernet Connection"
     ]
    },
    {
     "cell_type": "code",
     "collapsed": false,
     "input": [
      "Description='A basic DHCP Ethernet Connection'\n",
      "Interface=enp0s3  # Replace with the label of the ethernet device\n",
      "Connection=ethernet\n",
      "IP=dhcp"
     ],
     "language": "python",
     "metadata": {},
     "outputs": []
    },
    {
     "cell_type": "code",
     "collapsed": false,
     "input": [
      "%% bash\n",
      "\n",
      "ip link\n",
      "# This gives the ethernet device name\n",
      "\n",
      "cat eth > /etc/netctl/eth\n",
      "\n",
      "netctl start eth\n",
      "\n",
      "ping 8.8.8.8"
     ],
     "language": "python",
     "metadata": {},
     "outputs": []
    },
    {
     "cell_type": "heading",
     "level": 3,
     "metadata": {},
     "source": [
      "Wifi Connection"
     ]
    },
    {
     "cell_type": "code",
     "collapsed": false,
     "input": [
      "%% bash\n",
      "\n",
      "wifi-menu"
     ],
     "language": "python",
     "metadata": {},
     "outputs": []
    },
    {
     "cell_type": "heading",
     "level": 3,
     "metadata": {},
     "source": [
      "Make Sudo Work"
     ]
    },
    {
     "cell_type": "code",
     "collapsed": false,
     "input": [
      "%% bash\n",
      "\n",
      "visudo\n",
      "\n",
      "# Uncomment the line that says %wheel ALL=(ALL) ALL"
     ],
     "language": "python",
     "metadata": {},
     "outputs": []
    },
    {
     "cell_type": "heading",
     "level": 3,
     "metadata": {},
     "source": [
      "Create a User"
     ]
    },
    {
     "cell_type": "code",
     "collapsed": false,
     "input": [
      "%% bash\n",
      "\n",
      "useradd -m -G wheel -s /bin/zsh david\n",
      "passwd david\n",
      "\n",
      "# Switch to the real user\n",
      "su david\n",
      "\n",
      "# Configure the initial options for zsh"
     ],
     "language": "python",
     "metadata": {},
     "outputs": []
    },
    {
     "cell_type": "code",
     "collapsed": false,
     "input": [
      "%% bash\n",
      "\n",
      "# Install Cinnamon\n",
      "sudo pacman -S cinnamon xorg-server xorg-xinit\n",
      "\n",
      "echo \"exec cinnamon-session\" > ~/.xinitrc\n",
      "\n",
      "startx\n",
      "\n",
      "# Install GDM to make the login automatic\n",
      "sudo pacman -S gdm\n",
      "\n",
      "sudo systemctl enable gdm\n",
      "sudo systemctl start gdm"
     ],
     "language": "python",
     "metadata": {},
     "outputs": []
    },
    {
     "cell_type": "code",
     "collapsed": false,
     "input": [],
     "language": "python",
     "metadata": {},
     "outputs": []
    }
   ],
   "metadata": {}
  }
 ]
}